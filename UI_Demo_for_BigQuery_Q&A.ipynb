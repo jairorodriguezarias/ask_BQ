{
  "nbformat": 4,
  "nbformat_minor": 0,
  "metadata": {
    "colab": {
      "provenance": [],
      "collapsed_sections": [
        "UEv34vVKxR9k",
        "aPh6goEQyKsD",
        "LqDhLithzJgd",
        "mpW-rMVI0DUZ",
        "LAlVAHPe16Xr"
      ]
    },
    "kernelspec": {
      "name": "python3",
      "display_name": "Python 3"
    },
    "language_info": {
      "name": "python"
    }
  },
  "cells": [
    {
      "cell_type": "markdown",
      "source": [
        "# **BigQuery Q&A using langchain & LLM (go/ask-bigquery)**\n"
      ],
      "metadata": {
        "id": "nWKmZBiRSbO7"
      }
    },
    {
      "cell_type": "markdown",
      "source": [
        "Demo: This notebook guides you on use of LLM to answer questions over a BigQuery table.\n",
        "This notebook has also been tested on big datasets(~2 million rows) and works well with low latency.\n",
        "\n",
        "Dataset: Fitbit public dataset from Kaggle (https://www.kaggle.com/datasets/arashnic/fitbit)\n",
        "\n",
        "To use it on your own data, change the parameters in the section \"App parameters initialization\"\n",
        "\n",
        "\n",
        "\n",
        "\n",
        "\n",
        "|Author:       |Nikhil Rana (nikhilrana@)|\n",
        "|--------------|---------|\n",
        "|Last Updated: |5/30/2023|\n",
        "\n",
        "\n",
        "Example input: What is the average number of steps taken by the user?"
      ],
      "metadata": {
        "id": "j9BPkBzhTDzn"
      }
    },
    {
      "cell_type": "markdown",
      "source": [
        "| Date     | Change Log  |\n",
        "|----------|-------------|\n",
        "|5/17/2023 |Added Gradio UI at the end |\n",
        "|5/23/2023 |Changed setup to latest SDK|\n",
        "|5/30/2023 |Modified Prompt template for metadata queries|\n",
        "|5/31/2023 |Successfully tested on multiple SQL joins|\n",
        "|5/31/2023 |Modified prompt template for casting data types for calculations|\n",
        "|6/07/2023 |Updated SDKs to latest Langchain & SQLAlchemy|"
      ],
      "metadata": {
        "id": "6oFGVUMTJnih"
      }
    },
    {
      "cell_type": "markdown",
      "source": [
        "### Install latest Vertex LLM SDK"
      ],
      "metadata": {
        "id": "UEv34vVKxR9k"
      }
    },
    {
      "cell_type": "code",
      "execution_count": 1,
      "metadata": {
        "id": "DtJU7su79db8"
      },
      "outputs": [],
      "source": [
        "# Authenticate with Google account\n",
        "from google.colab import auth as google_auth\n",
        "google_auth.authenticate_user()"
      ]
    },
    {
      "cell_type": "code",
      "source": [
        "#Check for latest available SDK\n",
        "# !gsutil cp gs://vertex_sdk_llm_private_releases/SDK/google_cloud_aiplatform-1.23.0.llm.alpha.23.03.28-py2.py3-none-any.whl .\n",
        "# !gsutil cp gs://vertex_sdk_llm_private_releases/SDK/google_cloud_aiplatform-1.25.dev20230502+language.models-py2.py3-none-any.whl .\n",
        "\n",
        "!pip3 uninstall -y google-cloud-aiplatform\n",
        "!!pip install google-cloud-aiplatform --upgrade"
      ],
      "metadata": {
        "id": "lzgVKo1I9h30"
      },
      "execution_count": null,
      "outputs": []
    },
    {
      "cell_type": "code",
      "source": [
        "# !pip install google_cloud_aiplatform-1.25.dev20230502+language.models-py2.py3-none-any.whl \"shapely<2.0.0\""
      ],
      "metadata": {
        "id": "DnuxDVk89nc1"
      },
      "execution_count": 3,
      "outputs": []
    },
    {
      "cell_type": "markdown",
      "source": [
        "### Python libraries setup"
      ],
      "metadata": {
        "id": "aPh6goEQyKsD"
      }
    },
    {
      "cell_type": "code",
      "source": [
        "# Install Python Libraries\n",
        "!pip install chromadb --quiet\n",
        "!pip install langchain==0.0.191 --quiet\n",
        "!pip install google-cloud-core --quiet\n",
        "!pip install gradio --quiet\n",
        "\n",
        "# Below libraries are required to build a SQL engine for BigQuery\n",
        "!pip install SQLAlchemy --quiet\n",
        "!pip install sqlalchemy-bigquery --quiet"
      ],
      "metadata": {
        "id": "KKgtvZFD9vIQ"
      },
      "execution_count": null,
      "outputs": []
    },
    {
      "cell_type": "code",
      "source": [
        "exit()"
      ],
      "metadata": {
        "id": "_p0X85UA3aSa"
      },
      "execution_count": 5,
      "outputs": []
    },
    {
      "cell_type": "markdown",
      "source": [
        "## **Since the kernel restarted at this point, run the below code individually**"
      ],
      "metadata": {
        "id": "HBQjT-kZOLPn"
      }
    },
    {
      "cell_type": "markdown",
      "source": [
        "### LLM Model Initialization & App parameters initialization"
      ],
      "metadata": {
        "id": "aDJshtqgxlsI"
      }
    },
    {
      "cell_type": "code",
      "source": [
        "# @title Specify Project details and location of the BQ table\n",
        "\n",
        "project_id = \"prueba\"  # @param {type:\"string\"}\n",
        "location = \"us-central1\"  # @param {type:\"string\"}\n",
        "dataset_id = 'best' # @param {type:\"string\"}\n",
        "table_name1 = 'best' # @param {type:\"string\"}\n",
        "table_name2 = '' # @param {type:\"string\"}\n",
        "table_name3 = '' # @param {type:\"string\"}\n",
        "\n",
        "# table_names = (table_name1,table_name2,table_name3)\n",
        "table_names = (table_name1)"
      ],
      "metadata": {
        "id": "o6eipz3LxgtE"
      },
      "execution_count": 4,
      "outputs": []
    },
    {
      "cell_type": "code",
      "source": [
        "# @title Vertex AI LLM wrapper for using with Langchain\n",
        "# Credits:\n",
        "#  pmarlow@: go/vertex-on-langchain-source\n",
        "# Note:\n",
        "# - 04/19: Eventually this will be replaced by Langchain + Vertex AI integration\n",
        "\n",
        "import vertexai\n",
        "vertexai.init(project=project_id, location=location)\n",
        "\n",
        "import time\n",
        "from typing import Any, Mapping, List, Dict, Optional, Tuple\n",
        "\n",
        "from pydantic import BaseModel, Extra, root_validator\n",
        "\n",
        "from langchain.llms.base import LLM\n",
        "from langchain.embeddings.base import Embeddings\n",
        "from langchain.chat_models.base import BaseChatModel\n",
        "from langchain.llms.utils import enforce_stop_tokens\n",
        "from langchain.schema import Generation, LLMResult\n",
        "from langchain.schema import AIMessage, BaseMessage, ChatGeneration, ChatResult, HumanMessage, SystemMessage\n",
        "\n",
        "from vertexai.preview.language_models import TextGenerationModel, TextEmbeddingModel, ChatModel\n",
        "\n",
        "\n",
        "def rate_limit(max_per_minute):\n",
        "  period = 60 / max_per_minute\n",
        "  while True:\n",
        "    before = time.time()\n",
        "    yield\n",
        "    after = time.time()\n",
        "    elapsed = after - before\n",
        "    sleep_time = max(0, period - elapsed)\n",
        "    if sleep_time > 0:\n",
        "      print(f'Sleeping {sleep_time:.1f} seconds')\n",
        "      time.sleep(sleep_time)\n",
        "\n",
        "\n",
        "class _VertexCommon(BaseModel):\n",
        "    \"\"\"Wrapper around Vertex AI large language models.\n",
        "\n",
        "    \"\"\"\n",
        "    client: Any = None #: :meta private:\n",
        "    model_name: str = \"text-bison@001\"\n",
        "    \"\"\"Model name to use.\"\"\"\n",
        "\n",
        "    temperature: float = 0.2\n",
        "    \"\"\"What sampling temperature to use.\"\"\"\n",
        "\n",
        "    top_p: int = 0.8\n",
        "    \"\"\"Total probability mass of tokens to consider at each step.\"\"\"\n",
        "\n",
        "    top_k: int = 40\n",
        "    \"\"\"The number of highest probability tokens to keep for top-k filtering.\"\"\"\n",
        "\n",
        "    max_output_tokens: int = 200\n",
        "    \"\"\"The maximum number of tokens to generate in the completion.\"\"\"\n",
        "\n",
        "    @property\n",
        "    def _default_params(self) -> Mapping[str, Any]:\n",
        "        \"\"\"Get the default parameters for calling Vertex AI API.\"\"\"\n",
        "        return {\n",
        "            \"temperature\": self.temperature,\n",
        "            \"top_p\": self.top_p,\n",
        "            \"top_k\": self.top_k,\n",
        "            \"max_output_tokens\": self.max_output_tokens\n",
        "        }\n",
        "\n",
        "    def _predict(self, prompt: str, stop: Optional[List[str]]) -> str:\n",
        "        res = self.client.predict(prompt, **self._default_params)\n",
        "        return self._enforce_stop_words(res.text, stop)\n",
        "\n",
        "    def _enforce_stop_words(self, text: str, stop: Optional[List[str]]) -> str:\n",
        "        if stop:\n",
        "            return enforce_stop_tokens(text, stop)\n",
        "        return text\n",
        "\n",
        "    @property\n",
        "    def _llm_type(self) -> str:\n",
        "        \"\"\"Return type of llm.\"\"\"\n",
        "        return \"vertex_ai\"\n",
        "\n",
        "class VertexLLM(_VertexCommon, LLM):\n",
        "    model_name: str = \"text-bison@001\"\n",
        "\n",
        "    @root_validator()\n",
        "    def validate_environment(cls, values: Dict) -> Dict:\n",
        "        \"\"\"Validate that the python package exists in environment.\"\"\"\n",
        "\n",
        "        try:\n",
        "            values[\"client\"] = TextGenerationModel.from_pretrained(values[\"model_name\"])\n",
        "        except AttributeError:\n",
        "            raise ValueError(\n",
        "                \"Could not set Vertex Text Model client.\"\n",
        "            )\n",
        "\n",
        "        return values\n",
        "\n",
        "    def _call(self, prompt: str, stop: Optional[List[str]] = None) -> str:\n",
        "        \"\"\"Call out to Vertex AI's create endpoint.\n",
        "\n",
        "        Args:\n",
        "            prompt: The prompt to pass into the model.\n",
        "\n",
        "        Returns:\n",
        "            The string generated by the model.\n",
        "        \"\"\"\n",
        "        return self._predict(prompt, stop)\n",
        "\n",
        "\n",
        "class _VertexChatCommon(_VertexCommon):\n",
        "    \"\"\"Wrapper around Vertex AI Chat large language models.\n",
        "\n",
        "\n",
        "    \"\"\"\n",
        "    model_name: str = \"chat-bison@001\"\n",
        "    \"\"\"Model name to use.\"\"\"\n",
        "\n",
        "    @root_validator()\n",
        "    def validate_environment(cls, values: Dict) -> Dict:\n",
        "        \"\"\"Validate that the python package exists in environment.\"\"\"\n",
        "\n",
        "\n",
        "        try:\n",
        "            values[\"client\"] = ChatModel.from_pretrained(values[\"model_name\"])\n",
        "        except AttributeError:\n",
        "            raise ValueError(\n",
        "                \"Could not set Vertex Text Model client.\"\n",
        "            )\n",
        "\n",
        "        return values\n",
        "\n",
        "    def _response_to_chat_results(\n",
        "        self, response: object, stop: Optional[List[str]]\n",
        "    ) -> ChatResult:\n",
        "        text = self._enforce_stop_words(response.text, stop)\n",
        "        return ChatResult(generations=[ChatGeneration(message=AIMessage(content=text))])\n",
        "\n",
        "class VertexChat(_VertexChatCommon, BaseChatModel):\n",
        "    \"\"\"Wrapper around Vertex AI large language models.\"\"\"\n",
        "\n",
        "    def _generate(\n",
        "        self, messages: List[BaseMessage], stop: Optional[List[str]] = None\n",
        "    ) -> ChatResult:\n",
        "        chat, prompt = self._start_chat(messages)\n",
        "        response = chat.send_message(prompt)\n",
        "        return self._response_to_chat_results(response, stop=stop)\n",
        "\n",
        "    def _start_chat(\n",
        "        self, messages: List[BaseMessage]\n",
        "    ) -> Tuple[object, str]:\n",
        "        \"\"\"Start a chat.\n",
        "        Args:\n",
        "            messages: a list of BaseMessage.\n",
        "        Returns:\n",
        "            a tuple that has a Vertex AI chat model initializes, and a prompt to send to the model.\n",
        "        Currently it expects either one HumanMessage, or two message (SystemMessage and HumanMessage).\n",
        "        If two messages are provided, the first one would be use for context.\n",
        "        \"\"\"\n",
        "        if len(messages) == 1:\n",
        "            message = messages[0]\n",
        "            if not isinstance(message, HumanMessage):\n",
        "                raise ValueError(\"Message should be from a human if it's the first one.\")\n",
        "            context, prompt = None, message.content\n",
        "        elif len(messages) == 2:\n",
        "            first_message, second_message = messages[0], messages[1]\n",
        "            if not isinstance(first_message, SystemMessage):\n",
        "                raise ValueError(\n",
        "                    \"The first message should be a system if there're two of them.\"\n",
        "                )\n",
        "            if not isinstance(second_message, HumanMessage):\n",
        "                raise ValueError(\"The second message should be from a human.\")\n",
        "            context, prompt = first_message.content, second_message.content\n",
        "        else:\n",
        "            raise ValueError(f\"Chat model expects only one or two messages. Received {len(messages)}\")\n",
        "        chat = self.client.start_chat(context=context, **self._default_params)\n",
        "        return chat, prompt\n",
        "\n",
        "    async def _agenerate(\n",
        "        self, messages: List[BaseMessage], stop: Optional[List[str]] = None\n",
        "    ) -> ChatResult:\n",
        "        raise NotImplementedError(\n",
        "            \"\"\"Vertex AI doesn't support async requests at the moment.\"\"\"\n",
        "        )\n",
        "\n",
        "\n",
        "class VertexMultiTurnChat(_VertexChatCommon, BaseChatModel):\n",
        "    \"\"\"Wrapper around Vertex AI large language models.\"\"\"\n",
        "\n",
        "    chat: Optional[object] = None\n",
        "\n",
        "    def clear_chat(self) -> None:\n",
        "        self.chat = None\n",
        "\n",
        "    def start_chat(self, message: Optional[SystemMessage] = None) -> None:\n",
        "        if self.chat:\n",
        "            raise ValueError(\"Chat has already been started. Please, clear it first.\")\n",
        "        if message and not isinstance(message, SystemMessage):\n",
        "            raise ValueError(\"Context should be a system message\")\n",
        "        context = message.content if message else None\n",
        "        self.chat = self.client.start_chat(context=context, **self._default_params)\n",
        "\n",
        "    @property\n",
        "    def history(self) -> List[Tuple[str]]:\n",
        "        \"\"\"Chat history.\"\"\"\n",
        "        if self.chat:\n",
        "            return self.chat._history\n",
        "        return []\n",
        "\n",
        "    def _generate(\n",
        "        self, messages: List[BaseMessage], stop: Optional[List[str]] = None\n",
        "    ) -> ChatResult:\n",
        "        if len(messages) != 1:\n",
        "            raise ValueError(\n",
        "                \"You should send exactly one message to the chat each turn.\"\n",
        "            )\n",
        "        if not self.chat:\n",
        "            raise ValueError(\"You should start_chat first!\")\n",
        "        response = self.chat.send_message(messages[0].content)\n",
        "        return self._response_to_chat_results(response, stop=stop)\n",
        "\n",
        "    async def _agenerate(\n",
        "        self, messages: List[BaseMessage], stop: Optional[List[str]] = None\n",
        "    ) -> ChatResult:\n",
        "        raise NotImplementedError(\n",
        "            \"\"\"Vertex AI doesn't support async requests at the moment.\"\"\"\n",
        "        )\n",
        "\n",
        "class VertexEmbeddings(Embeddings, BaseModel):\n",
        "    \"\"\"Wrapper around Vertex AI large language models embeddings API.\n",
        "    \"\"\"\n",
        "    model_name: str = \"textembedding-gecko@001\"\n",
        "    \"\"\"Model name to use.\"\"\"\n",
        "\n",
        "    model: Any\n",
        "    requests_per_minute: int = 15\n",
        "\n",
        "\n",
        "    @root_validator()\n",
        "    def validate_environment(cls, values: Dict) -> Dict:\n",
        "        \"\"\"Validate that the python package exists in environment.\"\"\"\n",
        "\n",
        "        try:\n",
        "            values[\"model\"] = TextEmbeddingModel\n",
        "\n",
        "        except AttributeError:\n",
        "            raise ValueError(\n",
        "                \"Could not set Vertex Text Model client.\"\n",
        "            )\n",
        "\n",
        "        return values\n",
        "\n",
        "    class Config:\n",
        "        \"\"\"Configuration for this pydantic object.\"\"\"\n",
        "\n",
        "        extra = Extra.forbid\n",
        "\n",
        "    def embed_documents(self, texts: List[str]) -> List[List[float]]:\n",
        "      \"\"\"Call Vertex LLM embedding endpoint for embedding docs\n",
        "      Args:\n",
        "          texts: The list of texts to embed.\n",
        "      Returns:\n",
        "          List of embeddings, one for each text.\n",
        "      \"\"\"\n",
        "      self.model = self.model.from_pretrained(self.model_name)\n",
        "\n",
        "      limiter = rate_limit(self.requests_per_minute)\n",
        "      results = []\n",
        "      docs = list(texts)\n",
        "\n",
        "      while docs:\n",
        "        # Working in batches of 2 because the API apparently won't let\n",
        "        # us send more than 2 documents per request to get embeddings.\n",
        "        head, docs = docs[:2], docs[2:]\n",
        "        # print(f'Sending embedding request for: {head!r}')\n",
        "        chunk = self.model.get_embeddings(head)\n",
        "        results.extend(chunk)\n",
        "        next(limiter)\n",
        "\n",
        "      return [r.values for r in results]\n",
        "\n",
        "    def embed_query(self, text: str) -> List[float]:\n",
        "      \"\"\"Call Vertex LLM embedding endpoint for embedding query text.\n",
        "      Args:\n",
        "        text: The text to embed.\n",
        "      Returns:\n",
        "        Embedding for the text.\n",
        "      \"\"\"\n",
        "      single_result = self.embed_documents([text])\n",
        "      return single_result[0]\n",
        "\n",
        "#Initialize a model\n",
        "llm = VertexLLM(\n",
        "    model_name='text-bison@001',\n",
        "    max_output_tokens=256,\n",
        "    temperature=0,\n",
        "    top_p=0.8,top_k=40,\n",
        "    verbose=True,\n",
        ")"
      ],
      "metadata": {
        "id": "pIuZ0ThX-oIk"
      },
      "execution_count": 12,
      "outputs": []
    },
    {
      "cell_type": "markdown",
      "source": [
        "### Create SQL engine for BigQuery"
      ],
      "metadata": {
        "id": "LqDhLithzJgd"
      }
    },
    {
      "cell_type": "code",
      "source": [
        "from sqlalchemy import *\n",
        "from sqlalchemy.engine import create_engine\n",
        "from sqlalchemy.schema import *\n",
        "import pandas as pd"
      ],
      "metadata": {
        "id": "NmRwdkm9Mm_u"
      },
      "execution_count": 1,
      "outputs": []
    },
    {
      "cell_type": "code",
      "source": [
        "table_uri = f\"bigquery://{project_id}/{dataset_id}\"\n",
        "engine = create_engine(f\"bigquery://{project_id}/{dataset_id}\")"
      ],
      "metadata": {
        "id": "nBzy1sV51h1e"
      },
      "execution_count": 5,
      "outputs": []
    },
    {
      "cell_type": "code",
      "source": [
        "#Testing all tables\n",
        "query=f\"\"\"SELECT * FROM {project_id}.{dataset_id}.{table_name1}\"\"\"\n",
        "engine.execute(query).first()"
      ],
      "metadata": {
        "id": "2_8Jr90a104A"
      },
      "execution_count": null,
      "outputs": []
    },
    {
      "cell_type": "markdown",
      "source": [
        "### SQL Chain setup for LLM"
      ],
      "metadata": {
        "id": "mpW-rMVI0DUZ"
      }
    },
    {
      "cell_type": "code",
      "source": [
        "from langchain import SQLDatabase, SQLDatabaseChain\n",
        "from langchain.prompts.prompt import PromptTemplate\n",
        "\n",
        "def bq_qna(question):\n",
        "  #create SQLDatabase instance from BQ engine\n",
        "  # db = SQLDatabase(engine=engine,metadata=MetaData(bind=engine),include_tables=[x for x in table_names])\n",
        "  db = SQLDatabase(engine=engine,metadata=MetaData(bind=engine),include_tables=[table_name1])\n",
        "  #create SQL DB Chain with the initialized LLM and above SQLDB instance\n",
        "  db_chain = SQLDatabaseChain.from_llm(llm, db, verbose=True, return_intermediate_steps=True)\n",
        "\n",
        "  #Define prompt for BigQuery SQL\n",
        "  _googlesql_prompt = \"\"\"You are a GoogleSQL expert. Given an input question, first create a syntactically correct GoogleSQL query to run, then look at the results of the query and return the answer to the input question.\n",
        "  Unless the user specifies in the question a specific number of examples to obtain, query for at most {top_k} results using the LIMIT clause as per GoogleSQL. You can order the results to return the most informative data in the database.\n",
        "  Never query for all columns from a table. You must query only the columns that are needed to answer the question. Wrap each column name in backticks (`) to denote them as delimited identifiers.\n",
        "  Pay attention to use only the column names you can see in the tables below. Be careful to not query for columns that do not exist. Also, pay attention to which column is in which table.\n",
        "  Use the following format:\n",
        "  Question: \"Question here\"\n",
        "  SQLQuery: \"SQL Query to run\"\n",
        "  SQLResult: \"Result of the SQLQuery\"\n",
        "  Answer: \"Final answer here\"\n",
        "  Only use the following tables:\n",
        "  {table_info}\n",
        "\n",
        "  If someone asks for aggregation on a STRING data type column, then CAST column as NUMERIC before you do the aggregation.\n",
        "\n",
        "  If someone asks for specific month, use ActivityDate between current month's start date and current month's end date\n",
        "\n",
        "  If someone asks for column names in the table, use the following format:\n",
        "  SELECT column_name\n",
        "  FROM `{project_id}.{dataset_id}`.INFORMATION_SCHEMA.COLUMNS\n",
        "  WHERE table_name in {table_info}\n",
        "\n",
        "  Question: {input}\"\"\"\n",
        "\n",
        "  GOOGLESQL_PROMPT = PromptTemplate(\n",
        "      input_variables=[\"input\", \"table_info\", \"top_k\", \"project_id\", \"dataset_id\"],\n",
        "      template=_googlesql_prompt,\n",
        "  )\n",
        "\n",
        "  #passing question to the prompt template\n",
        "  final_prompt = GOOGLESQL_PROMPT.format(input=question, project_id =project_id, dataset_id=dataset_id, table_info=table_names, top_k=10000)\n",
        "\n",
        "  #pass final prompt to SQL Chain\n",
        "  output = db_chain(final_prompt)\n",
        "\n",
        "\n",
        "  return output['result'], output['intermediate_steps'][1]\n"
      ],
      "metadata": {
        "id": "7JmfJcgP5EhU"
      },
      "execution_count": 16,
      "outputs": []
    },
    {
      "cell_type": "markdown",
      "source": [
        "### Testing the setup"
      ],
      "metadata": {
        "id": "LAlVAHPe16Xr"
      }
    },
    {
      "cell_type": "code",
      "source": [
        "#Testing 1\n",
        "bq_qna('Show me the top 10 product with category_2 equal to Clothing with the best ranking')"
      ],
      "metadata": {
        "id": "F5wmsihBD4tS"
      },
      "execution_count": null,
      "outputs": []
    },
    {
      "cell_type": "code",
      "source": [
        "#Testing 2\n",
        "bq_qna('Show me the top 10 product with category_2 equal to Clothing with the best ranking, include price_range y la image_url')"
      ],
      "metadata": {
        "id": "-ypFevIgGNl1"
      },
      "execution_count": null,
      "outputs": []
    },
    {
      "cell_type": "code",
      "source": [
        "#Testing 3 - Metadata queries\n",
        "bq_qna('what are the product name with greatest price')"
      ],
      "metadata": {
        "id": "78z0zs8cLdJ0"
      },
      "execution_count": null,
      "outputs": []
    },
    {
      "cell_type": "code",
      "source": [
        "#Testing 4 - Joins\n",
        "bq_qna('what are the product name with greatest price, include the price min and max')"
      ],
      "metadata": {
        "id": "lNL16fEJMo2b"
      },
      "execution_count": null,
      "outputs": []
    },
    {
      "cell_type": "code",
      "source": [
        "#Testing 5 - Joins\n",
        "bq_qna(\"\"\"show me the url to the product name Velilla Mono\"\"\")"
      ],
      "metadata": {
        "id": "c1aSee4pM886"
      },
      "execution_count": null,
      "outputs": []
    },
    {
      "cell_type": "code",
      "source": [
        "#Testing 5 - Joins\n",
        "bq_qna(\"\"\"show me the url to the products barnd exact Velilla with date 8 Aug 2023\"\"\")"
      ],
      "metadata": {
        "id": "Rw70AMV2OfuF"
      },
      "execution_count": null,
      "outputs": []
    },
    {
      "cell_type": "markdown",
      "source": [
        "### UI for Demo"
      ],
      "metadata": {
        "id": "9Hj4JSWf2JKF"
      }
    },
    {
      "cell_type": "code",
      "source": [
        "import gradio as gr\n",
        "\n",
        "with gr.Blocks() as demo:\n",
        "    gr.Markdown(\n",
        "    \"\"\"\n",
        "    ## Ask BiqQuery\n",
        "\n",
        "    This demo is to showcase answering questions on a tabular data available in Big Query using Vertex PALM LLM & Langchain.\n",
        "\n",
        "    This demo uses a sample public dataset from Kaggle (https://www.kaggle.com/datasets/arashnic/fitbit)\n",
        "\n",
        "    ### Sample Inputs:\n",
        "    1. Show me the top 10 product with category_2 equal to Clothing with the best ranking, include price_range y la image_url ?\n",
        "    2. what are the product name with greatest price, include the price min and max ?\n",
        "    3. show me the url to the products barnd exact Velilla with date 8 Aug 2023\n",
        "\n",
        "    ### Enter a search query...\n",
        "\n",
        "    \"\"\")\n",
        "    with gr.Row():\n",
        "      with gr.Column():\n",
        "        input_text = gr.Textbox(label=\"Question\", placeholder=\"Show me the top 10 product with category_2 equal to Clothing with the best ranking\")\n",
        "\n",
        "    with gr.Row():\n",
        "      generate = gr.Button(\"Ask BigQuery\")\n",
        "\n",
        "    with gr.Row():\n",
        "      label2 = gr.Textbox(label=\"Output\")\n",
        "    with gr.Row():\n",
        "      label3 = gr.Textbox(label=\"SQL query generated by LLM\")\n",
        "\n",
        "    generate.click(bq_qna,input_text, [label2, label3])\n",
        "demo.launch(share=False, debug=False)"
      ],
      "metadata": {
        "id": "SGyd67aqXfLV"
      },
      "execution_count": null,
      "outputs": []
    }
  ]
}